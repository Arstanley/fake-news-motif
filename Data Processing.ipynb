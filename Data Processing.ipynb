{
 "cells": [
  {
   "cell_type": "code",
   "execution_count": 20,
   "metadata": {},
   "outputs": [],
   "source": [
    "import pandas as pd\n",
    "import numpy as np\n",
    "from numpy import nan\n",
    "from sklearn import preprocessing"
   ]
  },
  {
   "cell_type": "code",
   "execution_count": null,
   "metadata": {},
   "outputs": [],
   "source": []
  },
  {
   "cell_type": "code",
   "execution_count": 21,
   "metadata": {},
   "outputs": [],
   "source": [
    "def data_process(name):\n",
    "    data = pd.read_csv(name + '.csv')\n",
    "    data = data[data.PARENT != \"ORIGINALPOST\"]\n",
    "    data = data.dropna()\n",
    "    data.applymap(cellID)\n",
    "    le = preprocessing.LabelEncoder()\n",
    "    idlist = data['PARENT'].append(data['CHILD'])\n",
    "    le.fit(idlist.astype(str))\n",
    "    data['PARENT'] = le.transform(data['PARENT'])\n",
    "    data['CHILD'] = le.transform(data['CHILD'])\n",
    "    data.to_csv(name + '_processed.txt', index = False, sep = '\\t', header = False)"
   ]
  },
  {
   "cell_type": "code",
   "execution_count": 22,
   "metadata": {},
   "outputs": [],
   "source": [
    "def cellID(x):\n",
    "    if type(x) is str:\n",
    "        for i in range(len(x)-1, -1, -1):\n",
    "            if x[i].isdigit() and x[i-1].isdigit() == False:\n",
    "                index = i\n",
    "                break\n",
    "        x = x[:index]\n",
    "    return x"
   ]
  },
  {
   "cell_type": "code",
   "execution_count": 23,
   "metadata": {},
   "outputs": [],
   "source": [
    "data_process('Large')"
   ]
  },
  {
   "cell_type": "code",
   "execution_count": null,
   "metadata": {},
   "outputs": [],
   "source": []
  },
  {
   "cell_type": "code",
   "execution_count": null,
   "metadata": {},
   "outputs": [],
   "source": []
  }
 ],
 "metadata": {
  "kernelspec": {
   "display_name": "Python 3",
   "language": "python",
   "name": "python3"
  },
  "language_info": {
   "codemirror_mode": {
    "name": "ipython",
    "version": 3
   },
   "file_extension": ".py",
   "mimetype": "text/x-python",
   "name": "python",
   "nbconvert_exporter": "python",
   "pygments_lexer": "ipython3",
   "version": "3.6.6"
  }
 },
 "nbformat": 4,
 "nbformat_minor": 2
}
